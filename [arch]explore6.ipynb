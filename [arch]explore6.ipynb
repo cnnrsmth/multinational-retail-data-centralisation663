{
 "cells": [
  {
   "cell_type": "code",
   "execution_count": 2,
   "metadata": {},
   "outputs": [
    {
     "name": "stdout",
     "output_type": "stream",
     "text": [
      "Database engine initialized successfully.\n"
     ]
    }
   ],
   "source": [
    "from database_utils import DatabaseConnector\n",
    "from data_extraction import DataExtractor\n",
    "import pandas as pd\n",
    "\n",
    "# Initialize DatabaseConnector for RDS\n",
    "rds_db_connector = DatabaseConnector(config_path='aws_db_creds.yaml')\n",
    "\n",
    "# Initialize DataExtractor\n",
    "data_extractor = DataExtractor(rds_db_connector)\n"
   ]
  },
  {
   "cell_type": "code",
   "execution_count": 4,
   "metadata": {},
   "outputs": [
    {
     "name": "stdout",
     "output_type": "stream",
     "text": [
      "Tables in the database: ['legacy_store_details', 'dim_card_details', 'legacy_users', 'orders_table']\n",
      "Tables in the RDS database: ['legacy_store_details', 'dim_card_details', 'legacy_users', 'orders_table']\n",
      "Data before cleaning:\n",
      "   level_0  index                             date_uuid first_name last_name  \\\n",
      "0        0      0  9476f17e-5d6a-4117-874d-9cdb38ca1fa6       None      None   \n",
      "1        1      1  0423a395-a04d-4e4a-bd0f-d237cbd5a295       None      None   \n",
      "2        2      2  65187294-bb16-4519-adc0-787bbe423970       None      None   \n",
      "3        3      3  579e21f7-13cb-436b-83ad-33687a4eb337       None      None   \n",
      "4        4      4  00ab86c3-2039-4674-b9c1-adbcbbf525bd       None      None   \n",
      "\n",
      "                              user_uuid       card_number    store_code  \\\n",
      "0  93caf182-e4e9-4c6e-bebb-60a1a9dcf9b8    30060773296197   BL-8387506C   \n",
      "1  8fe96c3a-d62d-4eb5-b313-cf12d9126a49   349624180933183  WEB-1388012W   \n",
      "2  fc461df4-b919-48b2-909e-55c95a03fe6b  3529023891650490   CH-01D85C8D   \n",
      "3  6104719f-ef14-4b09-bf04-fb0c4620acb0   213142929492281   CL-C183BE4B   \n",
      "4  9523a6d3-b2dd-4670-a51a-36aebc89f579      502067329974   SO-B5B9CB3B   \n",
      "\n",
      "  product_code     1  product_quantity  \n",
      "0  R7-3126933h  None                 3  \n",
      "1  C2-7287916l  None                 2  \n",
      "2  S7-1175877v  None                 2  \n",
      "3  D8-8421505n  None                 2  \n",
      "4  B6-2596063a  None                 2  \n"
     ]
    }
   ],
   "source": [
    "# List tables in the database\n",
    "tables = data_extractor.list_tables()\n",
    "print(f\"Tables in the RDS database: {tables}\")\n",
    "\n",
    "# Check if 'orders_table' is present and extract it\n",
    "target_table = 'orders_table'\n",
    "if target_table in tables:\n",
    "    df = data_extractor.read_rds_table(target_table)\n",
    "    if df is not None:\n",
    "        print(\"Data before cleaning:\")\n",
    "        print(df.head())  # Display the first few rows of the DataFrame\n",
    "    else:\n",
    "        print(f\"Failed to read data from table {target_table}\")\n",
    "else:\n",
    "    print(f\"Table {target_table} not found in the database.\")"
   ]
  },
  {
   "cell_type": "code",
   "execution_count": 5,
   "metadata": {},
   "outputs": [
    {
     "data": {
      "text/html": [
       "<div>\n",
       "<style scoped>\n",
       "    .dataframe tbody tr th:only-of-type {\n",
       "        vertical-align: middle;\n",
       "    }\n",
       "\n",
       "    .dataframe tbody tr th {\n",
       "        vertical-align: top;\n",
       "    }\n",
       "\n",
       "    .dataframe thead th {\n",
       "        text-align: right;\n",
       "    }\n",
       "</style>\n",
       "<table border=\"1\" class=\"dataframe\">\n",
       "  <thead>\n",
       "    <tr style=\"text-align: right;\">\n",
       "      <th></th>\n",
       "      <th>level_0</th>\n",
       "      <th>index</th>\n",
       "      <th>date_uuid</th>\n",
       "      <th>first_name</th>\n",
       "      <th>last_name</th>\n",
       "      <th>user_uuid</th>\n",
       "      <th>card_number</th>\n",
       "      <th>store_code</th>\n",
       "      <th>product_code</th>\n",
       "      <th>1</th>\n",
       "      <th>product_quantity</th>\n",
       "    </tr>\n",
       "  </thead>\n",
       "  <tbody>\n",
       "    <tr>\n",
       "      <th>0</th>\n",
       "      <td>0</td>\n",
       "      <td>0</td>\n",
       "      <td>9476f17e-5d6a-4117-874d-9cdb38ca1fa6</td>\n",
       "      <td>None</td>\n",
       "      <td>None</td>\n",
       "      <td>93caf182-e4e9-4c6e-bebb-60a1a9dcf9b8</td>\n",
       "      <td>30060773296197</td>\n",
       "      <td>BL-8387506C</td>\n",
       "      <td>R7-3126933h</td>\n",
       "      <td>None</td>\n",
       "      <td>3</td>\n",
       "    </tr>\n",
       "    <tr>\n",
       "      <th>1</th>\n",
       "      <td>1</td>\n",
       "      <td>1</td>\n",
       "      <td>0423a395-a04d-4e4a-bd0f-d237cbd5a295</td>\n",
       "      <td>None</td>\n",
       "      <td>None</td>\n",
       "      <td>8fe96c3a-d62d-4eb5-b313-cf12d9126a49</td>\n",
       "      <td>349624180933183</td>\n",
       "      <td>WEB-1388012W</td>\n",
       "      <td>C2-7287916l</td>\n",
       "      <td>None</td>\n",
       "      <td>2</td>\n",
       "    </tr>\n",
       "    <tr>\n",
       "      <th>2</th>\n",
       "      <td>2</td>\n",
       "      <td>2</td>\n",
       "      <td>65187294-bb16-4519-adc0-787bbe423970</td>\n",
       "      <td>None</td>\n",
       "      <td>None</td>\n",
       "      <td>fc461df4-b919-48b2-909e-55c95a03fe6b</td>\n",
       "      <td>3529023891650490</td>\n",
       "      <td>CH-01D85C8D</td>\n",
       "      <td>S7-1175877v</td>\n",
       "      <td>None</td>\n",
       "      <td>2</td>\n",
       "    </tr>\n",
       "    <tr>\n",
       "      <th>3</th>\n",
       "      <td>3</td>\n",
       "      <td>3</td>\n",
       "      <td>579e21f7-13cb-436b-83ad-33687a4eb337</td>\n",
       "      <td>None</td>\n",
       "      <td>None</td>\n",
       "      <td>6104719f-ef14-4b09-bf04-fb0c4620acb0</td>\n",
       "      <td>213142929492281</td>\n",
       "      <td>CL-C183BE4B</td>\n",
       "      <td>D8-8421505n</td>\n",
       "      <td>None</td>\n",
       "      <td>2</td>\n",
       "    </tr>\n",
       "    <tr>\n",
       "      <th>4</th>\n",
       "      <td>4</td>\n",
       "      <td>4</td>\n",
       "      <td>00ab86c3-2039-4674-b9c1-adbcbbf525bd</td>\n",
       "      <td>None</td>\n",
       "      <td>None</td>\n",
       "      <td>9523a6d3-b2dd-4670-a51a-36aebc89f579</td>\n",
       "      <td>502067329974</td>\n",
       "      <td>SO-B5B9CB3B</td>\n",
       "      <td>B6-2596063a</td>\n",
       "      <td>None</td>\n",
       "      <td>2</td>\n",
       "    </tr>\n",
       "  </tbody>\n",
       "</table>\n",
       "</div>"
      ],
      "text/plain": [
       "   level_0  index                             date_uuid first_name last_name  \\\n",
       "0        0      0  9476f17e-5d6a-4117-874d-9cdb38ca1fa6       None      None   \n",
       "1        1      1  0423a395-a04d-4e4a-bd0f-d237cbd5a295       None      None   \n",
       "2        2      2  65187294-bb16-4519-adc0-787bbe423970       None      None   \n",
       "3        3      3  579e21f7-13cb-436b-83ad-33687a4eb337       None      None   \n",
       "4        4      4  00ab86c3-2039-4674-b9c1-adbcbbf525bd       None      None   \n",
       "\n",
       "                              user_uuid       card_number    store_code  \\\n",
       "0  93caf182-e4e9-4c6e-bebb-60a1a9dcf9b8    30060773296197   BL-8387506C   \n",
       "1  8fe96c3a-d62d-4eb5-b313-cf12d9126a49   349624180933183  WEB-1388012W   \n",
       "2  fc461df4-b919-48b2-909e-55c95a03fe6b  3529023891650490   CH-01D85C8D   \n",
       "3  6104719f-ef14-4b09-bf04-fb0c4620acb0   213142929492281   CL-C183BE4B   \n",
       "4  9523a6d3-b2dd-4670-a51a-36aebc89f579      502067329974   SO-B5B9CB3B   \n",
       "\n",
       "  product_code     1  product_quantity  \n",
       "0  R7-3126933h  None                 3  \n",
       "1  C2-7287916l  None                 2  \n",
       "2  S7-1175877v  None                 2  \n",
       "3  D8-8421505n  None                 2  \n",
       "4  B6-2596063a  None                 2  "
      ]
     },
     "execution_count": 5,
     "metadata": {},
     "output_type": "execute_result"
    }
   ],
   "source": [
    "df.head()"
   ]
  },
  {
   "cell_type": "code",
   "execution_count": 10,
   "metadata": {},
   "outputs": [
    {
     "name": "stdout",
     "output_type": "stream",
     "text": [
      "Number of invalid UUIDs: 0\n"
     ]
    }
   ],
   "source": [
    "import re\n",
    "\n",
    "# Define a regex pattern for UUID\n",
    "uuid_pattern = re.compile(r'^[0-9a-fA-F]{8}-[0-9a-fA-F]{4}-[0-9a-fA-F]{4}-[0-9a-fA-F]{4}-[0-9a-fA-F]{12}$')\n",
    "\n",
    "# Check if all values match the UUID pattern\n",
    "invalid_uuids = df[~df['user_uuid'].apply(lambda x: bool(uuid_pattern.match(str(x))))]\n",
    "\n",
    "print(f\"Number of invalid UUIDs: {len(invalid_uuids)}\")\n",
    "if len(invalid_uuids) > 0:\n",
    "    print(\"Invalid UUIDs:\")\n",
    "    print(invalid_uuids)\n"
   ]
  },
  {
   "cell_type": "code",
   "execution_count": 11,
   "metadata": {},
   "outputs": [
    {
     "name": "stdout",
     "output_type": "stream",
     "text": [
      "Number of duplicate UUIDs: 104839\n"
     ]
    }
   ],
   "source": [
    "duplicate_uuids3 = df['user_uuid'].duplicated().sum()\n",
    "print(f\"Number of duplicate UUIDs: {duplicate_uuids3}\")\n"
   ]
  },
  {
   "cell_type": "code",
   "execution_count": 13,
   "metadata": {},
   "outputs": [
    {
     "name": "stdout",
     "output_type": "stream",
     "text": [
      "Number of unique values in 'user_uuid' column: 15284\n",
      "Total number of values in 'user_uuid' column: 120123\n"
     ]
    }
   ],
   "source": [
    "unique_values = df['user_uuid'].nunique()\n",
    "total_values = df['user_uuid'].count()\n",
    "print(f\"Number of unique values in 'user_uuid' column: {unique_values}\")\n",
    "print(f\"Total number of values in 'user_uuid' column: {total_values}\")\n"
   ]
  },
  {
   "cell_type": "code",
   "execution_count": 14,
   "metadata": {},
   "outputs": [
    {
     "name": "stdout",
     "output_type": "stream",
     "text": [
      "Number of unique values in 'card_number' column: 15284\n",
      "Total number of values in 'card_number' column: 120123\n"
     ]
    }
   ],
   "source": [
    "unique_values = df['card_number'].nunique()\n",
    "total_values = df['card_number'].count()\n",
    "print(f\"Number of unique values in 'card_number' column: {unique_values}\")\n",
    "print(f\"Total number of values in 'card_number' column: {total_values}\")\n"
   ]
  },
  {
   "cell_type": "code",
   "execution_count": 15,
   "metadata": {},
   "outputs": [
    {
     "name": "stdout",
     "output_type": "stream",
     "text": [
      "Number of card numbers with invalid length: 10148\n",
      "Card numbers with invalid length:\n",
      "        level_0   index                             date_uuid first_name  \\\n",
      "4             4       4  00ab86c3-2039-4674-b9c1-adbcbbf525bd       None   \n",
      "9             9       9  e764e21c-f9ce-4e0a-8c01-4218e92e424c       None   \n",
      "35           35      35  983cfec4-5d2b-41b0-9899-9efacbf6467f       None   \n",
      "42           42      42  9f740e23-6eb8-465e-b421-6460706aa6b7      Marie   \n",
      "49           49      49  2feecc4f-94b5-4ce3-aeb7-981e7570fd93    Rachael   \n",
      "...         ...     ...                                   ...        ...   \n",
      "120114    81466   81466  9e4b398e-c733-41d8-b28e-95550b0f1e41       None   \n",
      "120115    87690   87689  e982f82e-ddb6-424c-b9a0-0712169faa44       None   \n",
      "120116    95080   95080  d950d99a-f49f-4a5b-b81d-e4d6570c4fac       None   \n",
      "120117   109637  109636  bbf9ba49-face-43e3-b732-d5089117e07e       None   \n",
      "120118   110549  110548  f0e8fff6-9998-4661-954b-0e258e09d33c       None   \n",
      "\n",
      "       last_name                             user_uuid   card_number  \\\n",
      "4           None  9523a6d3-b2dd-4670-a51a-36aebc89f579  502067329974   \n",
      "9           None  caffe463-4918-4f45-a37d-856dc0f15884  502049986008   \n",
      "35          None  ee0c5f80-2a18-42df-ad88-e898de71dd50   60485138139   \n",
      "42         Brown  5e9eb81e-65b2-4847-9143-f2f7be6da2c3   60457486839   \n",
      "49        Hughes  43fe9e5e-3043-4e26-b84d-e5e6b0a77682  676119752563   \n",
      "...          ...                                   ...           ...   \n",
      "120114      None  61aece9d-de6d-442f-a30b-fb4c63559202  575421945446   \n",
      "120115      None  cca40fcf-5554-46f9-8d0d-34efa19ff0fa  575421945446   \n",
      "120116      None  b33e2201-48d6-410e-a6c5-dedc039a8c59  575421945446   \n",
      "120117      None  0ab4dbd9-cdbc-434b-8fe4-7c80eefe1c06  575421945446   \n",
      "120118      None  95c74b0a-d495-4359-b1c0-e2da511e8403  575421945446   \n",
      "\n",
      "          store_code product_code     1  product_quantity  \n",
      "4        SO-B5B9CB3B  B6-2596063a  None                 2  \n",
      "9        BE-6F48991F  b6-6234052g  None                 2  \n",
      "35       PO-38790FAE  Z6-5998255Z  None                 1  \n",
      "42      WEB-1388012W  q5-6488109e  None                 5  \n",
      "49      WEB-1388012W  r8-2771125H  None                 5  \n",
      "...              ...          ...   ...               ...  \n",
      "120114  WEB-1388012W    r3-37753L  None                 3  \n",
      "120115   ME-D9ECD7DF  y2-5766330U  None                 3  \n",
      "120116   SC-8724E112  l8-5672498Q  None                 2  \n",
      "120117   BA-B4AED588  a1-6864441W  None                 7  \n",
      "120118   KA-FA7ED3B8  C9-6827622o  None                 4  \n",
      "\n",
      "[10148 rows x 11 columns]\n"
     ]
    }
   ],
   "source": [
    "# Check if all card numbers are between 13 and 19 digits long\n",
    "invalid_length_card_numbers = df[~df['card_number'].apply(lambda x: 13 <= len(str(x)) <= 19)]\n",
    "print(f\"Number of card numbers with invalid length: {len(invalid_length_card_numbers)}\")\n",
    "if len(invalid_length_card_numbers) > 0:\n",
    "    print(\"Card numbers with invalid length:\")\n",
    "    print(invalid_length_card_numbers)\n"
   ]
  },
  {
   "cell_type": "code",
   "execution_count": 16,
   "metadata": {},
   "outputs": [
    {
     "name": "stdout",
     "output_type": "stream",
     "text": [
      "Number of non-numeric card numbers: 0\n"
     ]
    }
   ],
   "source": [
    "# Check if all card numbers are numeric\n",
    "non_numeric_card_numbers = df[~df['card_number'].apply(lambda x: str(x).isdigit())]\n",
    "print(f\"Number of non-numeric card numbers: {len(non_numeric_card_numbers)}\")\n",
    "if len(non_numeric_card_numbers) > 0:\n",
    "    print(\"Non-numeric card numbers:\")\n",
    "    print(non_numeric_card_numbers)\n"
   ]
  },
  {
   "cell_type": "code",
   "execution_count": 17,
   "metadata": {},
   "outputs": [
    {
     "name": "stdout",
     "output_type": "stream",
     "text": [
      "Number of duplicate card numbers: 104839\n"
     ]
    }
   ],
   "source": [
    "duplicate_card_numbers = df['card_number'].duplicated().sum()\n",
    "print(f\"Number of duplicate card numbers: {duplicate_card_numbers}\")\n"
   ]
  },
  {
   "cell_type": "code",
   "execution_count": 18,
   "metadata": {},
   "outputs": [
    {
     "name": "stdout",
     "output_type": "stream",
     "text": [
      "Number of invalid entries in 'store_code' column: 26957\n",
      "Invalid store_code entries:\n",
      "1         WEB-1388012W\n",
      "5         WEB-1388012W\n",
      "8         WEB-1388012W\n",
      "11        WEB-1388012W\n",
      "12        WEB-1388012W\n",
      "              ...     \n",
      "120106    WEB-1388012W\n",
      "120107    WEB-1388012W\n",
      "120110    WEB-1388012W\n",
      "120114    WEB-1388012W\n",
      "120120    WEB-1388012W\n",
      "Name: store_code, Length: 26957, dtype: object\n"
     ]
    }
   ],
   "source": [
    "import re\n",
    "\n",
    "# Define a regular expression pattern for the valid format\n",
    "pattern = r'^[A-Za-z0-9]{2}-[A-Za-z0-9]{8}$'\n",
    "\n",
    "# Identify invalid store_code entries\n",
    "invalid_store_codes = df[~df['store_code'].str.match(pattern, na=False)]\n",
    "\n",
    "# Display the invalid entries\n",
    "print(f\"Number of invalid entries in 'store_code' column: {len(invalid_store_codes)}\")\n",
    "if len(invalid_store_codes) > 0:\n",
    "    print(\"Invalid store_code entries:\")\n",
    "    print(invalid_store_codes['store_code'])\n"
   ]
  },
  {
   "cell_type": "code",
   "execution_count": 19,
   "metadata": {},
   "outputs": [
    {
     "name": "stdout",
     "output_type": "stream",
     "text": [
      "Number of null values in 'product_quantity' column: 0\n"
     ]
    }
   ],
   "source": [
    "null_values_product_quantity = df['product_quantity'].isnull().sum()\n",
    "print(f\"Number of null values in 'product_quantity' column: {null_values_product_quantity}\")\n"
   ]
  },
  {
   "cell_type": "code",
   "execution_count": 20,
   "metadata": {},
   "outputs": [
    {
     "name": "stdout",
     "output_type": "stream",
     "text": [
      "Number of non-numeric values in 'product_quantity' column: 0\n"
     ]
    }
   ],
   "source": [
    "non_numeric_values = df[~df['product_quantity'].apply(lambda x: str(x).isdigit())]\n",
    "print(f\"Number of non-numeric values in 'product_quantity' column: {len(non_numeric_values)}\")\n",
    "if len(non_numeric_values) > 0:\n",
    "    print(\"Non-numeric values in 'product_quantity' column:\")\n",
    "    print(non_numeric_values['product_quantity'])\n"
   ]
  },
  {
   "cell_type": "code",
   "execution_count": 21,
   "metadata": {},
   "outputs": [
    {
     "ename": "NameError",
     "evalue": "name 'DataCleaning' is not defined",
     "output_type": "error",
     "traceback": [
      "\u001b[0;31m---------------------------------------------------------------------------\u001b[0m",
      "\u001b[0;31mNameError\u001b[0m                                 Traceback (most recent call last)",
      "Cell \u001b[0;32mIn[21], line 1\u001b[0m\n\u001b[0;32m----> 1\u001b[0m data_cleaner \u001b[38;5;241m=\u001b[39m \u001b[43mDataCleaning\u001b[49m()\n\u001b[1;32m      2\u001b[0m df \u001b[38;5;241m=\u001b[39m data_cleaner\u001b[38;5;241m.\u001b[39mconvert_data_types(df, [\u001b[38;5;124m'\u001b[39m\u001b[38;5;124mproduct_quantity\u001b[39m\u001b[38;5;124m'\u001b[39m])\n",
      "\u001b[0;31mNameError\u001b[0m: name 'DataCleaning' is not defined"
     ]
    }
   ],
   "source": [
    "data_cleaner = DataCleaning()\n",
    "df = data_cleaner.convert_data_types(df, ['product_quantity'])\n"
   ]
  },
  {
   "cell_type": "code",
   "execution_count": 23,
   "metadata": {},
   "outputs": [
    {
     "name": "stdout",
     "output_type": "stream",
     "text": [
      "Database engine initialized successfully.\n",
      "Data before cleaning:\n",
      "   level_0  index                             date_uuid first_name last_name  \\\n",
      "0        0      0  9476f17e-5d6a-4117-874d-9cdb38ca1fa6       None      None   \n",
      "1        1      1  0423a395-a04d-4e4a-bd0f-d237cbd5a295       None      None   \n",
      "2        2      2  65187294-bb16-4519-adc0-787bbe423970       None      None   \n",
      "3        3      3  579e21f7-13cb-436b-83ad-33687a4eb337       None      None   \n",
      "4        4      4  00ab86c3-2039-4674-b9c1-adbcbbf525bd       None      None   \n",
      "\n",
      "                              user_uuid       card_number    store_code  \\\n",
      "0  93caf182-e4e9-4c6e-bebb-60a1a9dcf9b8    30060773296197   BL-8387506C   \n",
      "1  8fe96c3a-d62d-4eb5-b313-cf12d9126a49   349624180933183  WEB-1388012W   \n",
      "2  fc461df4-b919-48b2-909e-55c95a03fe6b  3529023891650490   CH-01D85C8D   \n",
      "3  6104719f-ef14-4b09-bf04-fb0c4620acb0   213142929492281   CL-C183BE4B   \n",
      "4  9523a6d3-b2dd-4670-a51a-36aebc89f579      502067329974   SO-B5B9CB3B   \n",
      "\n",
      "  product_code     1  product_quantity  \n",
      "0  R7-3126933h  None                 3  \n",
      "1  C2-7287916l  None                 2  \n",
      "2  S7-1175877v  None                 2  \n",
      "3  D8-8421505n  None                 2  \n",
      "4  B6-2596063a  None                 2  \n",
      "Data after cleaning:\n",
      "   level_0  index                             date_uuid  \\\n",
      "0        0      0  9476f17e-5d6a-4117-874d-9cdb38ca1fa6   \n",
      "1        1      1  0423a395-a04d-4e4a-bd0f-d237cbd5a295   \n",
      "2        2      2  65187294-bb16-4519-adc0-787bbe423970   \n",
      "3        3      3  579e21f7-13cb-436b-83ad-33687a4eb337   \n",
      "4        4      4  00ab86c3-2039-4674-b9c1-adbcbbf525bd   \n",
      "\n",
      "                              user_uuid       card_number    store_code  \\\n",
      "0  93caf182-e4e9-4c6e-bebb-60a1a9dcf9b8    30060773296197   BL-8387506C   \n",
      "1  8fe96c3a-d62d-4eb5-b313-cf12d9126a49   349624180933183  WEB-1388012W   \n",
      "2  fc461df4-b919-48b2-909e-55c95a03fe6b  3529023891650490   CH-01D85C8D   \n",
      "3  6104719f-ef14-4b09-bf04-fb0c4620acb0   213142929492281   CL-C183BE4B   \n",
      "4  9523a6d3-b2dd-4670-a51a-36aebc89f579      502067329974   SO-B5B9CB3B   \n",
      "\n",
      "  product_code  product_quantity  \n",
      "0  R7-3126933h                 3  \n",
      "1  C2-7287916l                 2  \n",
      "2  S7-1175877v                 2  \n",
      "3  D8-8421505n                 2  \n",
      "4  B6-2596063a                 2  \n",
      "Data types after cleaning:\n",
      "level_0              int64\n",
      "index                int64\n",
      "date_uuid           object\n",
      "user_uuid           object\n",
      "card_number          int64\n",
      "store_code          object\n",
      "product_code        object\n",
      "product_quantity     int64\n",
      "dtype: object\n"
     ]
    }
   ],
   "source": [
    "from data_cleaning import DataCleaning\n",
    "\n",
    "# Step 1: Instantiate the DataCleaning class\n",
    "data_cleaner = DataCleaning()\n",
    "\n",
    "# Step 2: Extract the data from the RDS database\n",
    "db_connector = DatabaseConnector(config_path='aws_db_creds.yaml')\n",
    "data_extractor = DataExtractor(db_connector)\n",
    "orders_df = data_extractor.read_rds_table('orders_table')\n",
    "\n",
    "# Display the first few rows of the dataframe before cleaning\n",
    "print(\"Data before cleaning:\")\n",
    "print(orders_df.head())\n",
    "\n",
    "# Step 3: Apply the clean_orders_data method to clean the dataframe\n",
    "cleaned_orders_df = data_cleaner.clean_orders_data(orders_df)\n",
    "\n",
    "# Step 4: Display the first few rows of the dataframe after cleaning\n",
    "print(\"Data after cleaning:\")\n",
    "print(cleaned_orders_df.head())\n",
    "\n",
    "# Step 5: Check the data types to ensure product_quantity is numeric\n",
    "print(\"Data types after cleaning:\")\n",
    "print(cleaned_orders_df.dtypes)"
   ]
  },
  {
   "cell_type": "code",
   "execution_count": 24,
   "metadata": {},
   "outputs": [
    {
     "data": {
      "text/html": [
       "<div>\n",
       "<style scoped>\n",
       "    .dataframe tbody tr th:only-of-type {\n",
       "        vertical-align: middle;\n",
       "    }\n",
       "\n",
       "    .dataframe tbody tr th {\n",
       "        vertical-align: top;\n",
       "    }\n",
       "\n",
       "    .dataframe thead th {\n",
       "        text-align: right;\n",
       "    }\n",
       "</style>\n",
       "<table border=\"1\" class=\"dataframe\">\n",
       "  <thead>\n",
       "    <tr style=\"text-align: right;\">\n",
       "      <th></th>\n",
       "      <th>level_0</th>\n",
       "      <th>index</th>\n",
       "      <th>date_uuid</th>\n",
       "      <th>user_uuid</th>\n",
       "      <th>card_number</th>\n",
       "      <th>store_code</th>\n",
       "      <th>product_code</th>\n",
       "      <th>product_quantity</th>\n",
       "    </tr>\n",
       "  </thead>\n",
       "  <tbody>\n",
       "    <tr>\n",
       "      <th>0</th>\n",
       "      <td>0</td>\n",
       "      <td>0</td>\n",
       "      <td>9476f17e-5d6a-4117-874d-9cdb38ca1fa6</td>\n",
       "      <td>93caf182-e4e9-4c6e-bebb-60a1a9dcf9b8</td>\n",
       "      <td>30060773296197</td>\n",
       "      <td>BL-8387506C</td>\n",
       "      <td>R7-3126933h</td>\n",
       "      <td>3</td>\n",
       "    </tr>\n",
       "    <tr>\n",
       "      <th>1</th>\n",
       "      <td>1</td>\n",
       "      <td>1</td>\n",
       "      <td>0423a395-a04d-4e4a-bd0f-d237cbd5a295</td>\n",
       "      <td>8fe96c3a-d62d-4eb5-b313-cf12d9126a49</td>\n",
       "      <td>349624180933183</td>\n",
       "      <td>WEB-1388012W</td>\n",
       "      <td>C2-7287916l</td>\n",
       "      <td>2</td>\n",
       "    </tr>\n",
       "    <tr>\n",
       "      <th>2</th>\n",
       "      <td>2</td>\n",
       "      <td>2</td>\n",
       "      <td>65187294-bb16-4519-adc0-787bbe423970</td>\n",
       "      <td>fc461df4-b919-48b2-909e-55c95a03fe6b</td>\n",
       "      <td>3529023891650490</td>\n",
       "      <td>CH-01D85C8D</td>\n",
       "      <td>S7-1175877v</td>\n",
       "      <td>2</td>\n",
       "    </tr>\n",
       "    <tr>\n",
       "      <th>3</th>\n",
       "      <td>3</td>\n",
       "      <td>3</td>\n",
       "      <td>579e21f7-13cb-436b-83ad-33687a4eb337</td>\n",
       "      <td>6104719f-ef14-4b09-bf04-fb0c4620acb0</td>\n",
       "      <td>213142929492281</td>\n",
       "      <td>CL-C183BE4B</td>\n",
       "      <td>D8-8421505n</td>\n",
       "      <td>2</td>\n",
       "    </tr>\n",
       "    <tr>\n",
       "      <th>4</th>\n",
       "      <td>4</td>\n",
       "      <td>4</td>\n",
       "      <td>00ab86c3-2039-4674-b9c1-adbcbbf525bd</td>\n",
       "      <td>9523a6d3-b2dd-4670-a51a-36aebc89f579</td>\n",
       "      <td>502067329974</td>\n",
       "      <td>SO-B5B9CB3B</td>\n",
       "      <td>B6-2596063a</td>\n",
       "      <td>2</td>\n",
       "    </tr>\n",
       "  </tbody>\n",
       "</table>\n",
       "</div>"
      ],
      "text/plain": [
       "   level_0  index                             date_uuid  \\\n",
       "0        0      0  9476f17e-5d6a-4117-874d-9cdb38ca1fa6   \n",
       "1        1      1  0423a395-a04d-4e4a-bd0f-d237cbd5a295   \n",
       "2        2      2  65187294-bb16-4519-adc0-787bbe423970   \n",
       "3        3      3  579e21f7-13cb-436b-83ad-33687a4eb337   \n",
       "4        4      4  00ab86c3-2039-4674-b9c1-adbcbbf525bd   \n",
       "\n",
       "                              user_uuid       card_number    store_code  \\\n",
       "0  93caf182-e4e9-4c6e-bebb-60a1a9dcf9b8    30060773296197   BL-8387506C   \n",
       "1  8fe96c3a-d62d-4eb5-b313-cf12d9126a49   349624180933183  WEB-1388012W   \n",
       "2  fc461df4-b919-48b2-909e-55c95a03fe6b  3529023891650490   CH-01D85C8D   \n",
       "3  6104719f-ef14-4b09-bf04-fb0c4620acb0   213142929492281   CL-C183BE4B   \n",
       "4  9523a6d3-b2dd-4670-a51a-36aebc89f579      502067329974   SO-B5B9CB3B   \n",
       "\n",
       "  product_code  product_quantity  \n",
       "0  R7-3126933h                 3  \n",
       "1  C2-7287916l                 2  \n",
       "2  S7-1175877v                 2  \n",
       "3  D8-8421505n                 2  \n",
       "4  B6-2596063a                 2  "
      ]
     },
     "execution_count": 24,
     "metadata": {},
     "output_type": "execute_result"
    }
   ],
   "source": [
    "cleaned_orders_df.head()"
   ]
  }
 ],
 "metadata": {
  "kernelspec": {
   "display_name": "venv",
   "language": "python",
   "name": "python3"
  },
  "language_info": {
   "codemirror_mode": {
    "name": "ipython",
    "version": 3
   },
   "file_extension": ".py",
   "mimetype": "text/x-python",
   "name": "python",
   "nbconvert_exporter": "python",
   "pygments_lexer": "ipython3",
   "version": "3.12.3"
  }
 },
 "nbformat": 4,
 "nbformat_minor": 2
}
